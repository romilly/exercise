{
 "cells": [
  {
   "cell_type": "markdown",
   "id": "6f1bef1b",
   "metadata": {},
   "source": [
    "# Pandas and APL\n",
    "\n",
    "I've been working on a small, simple personal project to keep track of how much, and how fast, I walk each day.\n",
    "\n",
    "I could spend a king's ransom on specialised hardware but Google already knows the data and there's a neat (free) [plugin](https://chrome.google.com/webstore/detail/timeline-exporter) that allows me to export Google's location data to a csv file.\n",
    "\n",
    "I started working on it using Python's pandas package. Pandas is the tool of choice for Daya Analysts working in Python. As I worked on the project I kept thinging 'this is *easy* in Pandas, but it would be **trivial** in APL'.\n",
    "\n",
    "This notebook shows what I did in Pandas.\n",
    "\n",
    "I'm going to be looking at a week at a time. My goal is to how much I walked each day, at what average speed, and to identify days I didn't walk at all.\n",
    "\n",
    "Here's the start to the Pandas version:"
   ]
  },
  {
   "cell_type": "code",
   "execution_count": null,
   "id": "52eec3ee",
   "metadata": {},
   "outputs": [],
   "source": []
  }
 ],
 "metadata": {
  "kernelspec": {
   "display_name": "Python 3",
   "language": "python",
   "name": "python3"
  },
  "language_info": {
   "codemirror_mode": {
    "name": "ipython",
    "version": 3
   },
   "file_extension": ".py",
   "mimetype": "text/x-python",
   "name": "python",
   "nbconvert_exporter": "python",
   "pygments_lexer": "ipython3",
   "version": "3.8.10"
  }
 },
 "nbformat": 4,
 "nbformat_minor": 5
}
