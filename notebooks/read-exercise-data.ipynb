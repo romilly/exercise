{
 "cells": [
  {
   "cell_type": "markdown",
   "metadata": {},
   "source": [
    "# Pandas and APL\n",
    "\n",
    "I've just started working on a small, simple personal project to keep track of how much, and how fast, I walk each day.\n",
    "\n",
    "I could spend a king's ransom on specialised hardware, but Google already knows the data, and there's a neat FOSS [plugin](https://chrome.google.com/webstore/detail/timeline-exporter) that allows me to export Google's location data to a csv file.\n",
    "\n",
    "I'm going to be looking at a week at a time. My goal is to how much I walked each day, at what average speed, and to note days I didn't walk at all.\n",
    "\n",
    "I started working on it using Python's pandas package. Pandas is the tool of choice for Daya Analysts working in Python. As I worked on the project I kept thinging 'this is *easy* in Pandas, but it would be **trivial** in APL'.\n",
    "\n",
    "This notebook shows what I did so far in Pandas. The next shows the beginnings of the APL version.\n",
    "\n",
    "Here's the start to the Pandas version:"
   ]
  },
  {
   "cell_type": "code",
   "execution_count": 1,
   "metadata": {},
   "outputs": [],
   "source": [
    "import pandas as pd"
   ]
  },
  {
   "cell_type": "code",
   "execution_count": 2,
   "metadata": {
    "pycharm": {
     "name": "#%%\n"
    }
   },
   "outputs": [
    {
     "data": {
      "text/html": [
       "<div>\n",
       "<style scoped>\n",
       "    .dataframe tbody tr th:only-of-type {\n",
       "        vertical-align: middle;\n",
       "    }\n",
       "\n",
       "    .dataframe tbody tr th {\n",
       "        vertical-align: top;\n",
       "    }\n",
       "\n",
       "    .dataframe thead th {\n",
       "        text-align: right;\n",
       "    }\n",
       "</style>\n",
       "<table border=\"1\" class=\"dataframe\">\n",
       "  <thead>\n",
       "    <tr style=\"text-align: right;\">\n",
       "      <th></th>\n",
       "      <th>timeBegin</th>\n",
       "      <th>duration</th>\n",
       "      <th>category</th>\n",
       "      <th>distance</th>\n",
       "      <th>date</th>\n",
       "    </tr>\n",
       "  </thead>\n",
       "  <tbody>\n",
       "    <tr>\n",
       "      <th>0</th>\n",
       "      <td>2021-10-31T11:52:52.723Z</td>\n",
       "      <td>179910902</td>\n",
       "      <td>NaN</td>\n",
       "      <td>0</td>\n",
       "      <td>2021-10-31</td>\n",
       "    </tr>\n",
       "    <tr>\n",
       "      <th>1</th>\n",
       "      <td>2021-11-02T13:51:23.625Z</td>\n",
       "      <td>1011562</td>\n",
       "      <td>Walking</td>\n",
       "      <td>907</td>\n",
       "      <td>2021-11-02</td>\n",
       "    </tr>\n",
       "    <tr>\n",
       "      <th>2</th>\n",
       "      <td>2021-11-02T14:08:15.187Z</td>\n",
       "      <td>70305739</td>\n",
       "      <td>NaN</td>\n",
       "      <td>0</td>\n",
       "      <td>2021-11-02</td>\n",
       "    </tr>\n",
       "    <tr>\n",
       "      <th>3</th>\n",
       "      <td>2021-11-03T09:40:00.926Z</td>\n",
       "      <td>364320</td>\n",
       "      <td>Walking</td>\n",
       "      <td>668</td>\n",
       "      <td>2021-11-03</td>\n",
       "    </tr>\n",
       "    <tr>\n",
       "      <th>4</th>\n",
       "      <td>2021-11-03T09:46:05.246Z</td>\n",
       "      <td>655603</td>\n",
       "      <td>Post Office</td>\n",
       "      <td>0</td>\n",
       "      <td>2021-11-03</td>\n",
       "    </tr>\n",
       "  </tbody>\n",
       "</table>\n",
       "</div>"
      ],
      "text/plain": [
       "                  timeBegin   duration     category  distance        date\n",
       "0  2021-10-31T11:52:52.723Z  179910902          NaN         0  2021-10-31\n",
       "1  2021-11-02T13:51:23.625Z    1011562      Walking       907  2021-11-02\n",
       "2  2021-11-02T14:08:15.187Z   70305739          NaN         0  2021-11-02\n",
       "3  2021-11-03T09:40:00.926Z     364320      Walking       668  2021-11-03\n",
       "4  2021-11-03T09:46:05.246Z     655603  Post Office         0  2021-11-03"
      ]
     },
     "execution_count": 2,
     "metadata": {},
     "output_type": "execute_result"
    }
   ],
   "source": [
    "cols = [\n",
    "    'timeBegin',\n",
    "    'duration',\n",
    "    'category',\n",
    "    'distance'\n",
    "]\n",
    "df = pd.read_csv('../data/location-data/2021-29-11_2021-28-11.csv',\n",
    "                 usecols=cols)\n",
    "df['date'] = pd.to_datetime(df['timeBegin']).apply(lambda x: x.date())\n",
    "df.head()"
   ]
  },
  {
   "cell_type": "code",
   "execution_count": 3,
   "metadata": {
    "pycharm": {
     "name": "#%%\n"
    }
   },
   "outputs": [
    {
     "data": {
      "text/html": [
       "<div>\n",
       "<style scoped>\n",
       "    .dataframe tbody tr th:only-of-type {\n",
       "        vertical-align: middle;\n",
       "    }\n",
       "\n",
       "    .dataframe tbody tr th {\n",
       "        vertical-align: top;\n",
       "    }\n",
       "\n",
       "    .dataframe thead th {\n",
       "        text-align: right;\n",
       "    }\n",
       "</style>\n",
       "<table border=\"1\" class=\"dataframe\">\n",
       "  <thead>\n",
       "    <tr style=\"text-align: right;\">\n",
       "      <th></th>\n",
       "      <th>timeBegin</th>\n",
       "      <th>duration</th>\n",
       "      <th>category</th>\n",
       "      <th>distance</th>\n",
       "      <th>date</th>\n",
       "    </tr>\n",
       "  </thead>\n",
       "  <tbody>\n",
       "    <tr>\n",
       "      <th>1</th>\n",
       "      <td>2021-11-02T13:51:23.625Z</td>\n",
       "      <td>1011562</td>\n",
       "      <td>Walking</td>\n",
       "      <td>907</td>\n",
       "      <td>2021-11-02</td>\n",
       "    </tr>\n",
       "    <tr>\n",
       "      <th>3</th>\n",
       "      <td>2021-11-03T09:40:00.926Z</td>\n",
       "      <td>364320</td>\n",
       "      <td>Walking</td>\n",
       "      <td>668</td>\n",
       "      <td>2021-11-03</td>\n",
       "    </tr>\n",
       "    <tr>\n",
       "      <th>5</th>\n",
       "      <td>2021-11-03T09:57:00.849Z</td>\n",
       "      <td>385324</td>\n",
       "      <td>Walking</td>\n",
       "      <td>669</td>\n",
       "      <td>2021-11-03</td>\n",
       "    </tr>\n",
       "    <tr>\n",
       "      <th>10</th>\n",
       "      <td>2021-11-03T11:45:49.095Z</td>\n",
       "      <td>398238</td>\n",
       "      <td>Walking</td>\n",
       "      <td>1941</td>\n",
       "      <td>2021-11-03</td>\n",
       "    </tr>\n",
       "    <tr>\n",
       "      <th>12</th>\n",
       "      <td>2021-11-03T14:12:16.057Z</td>\n",
       "      <td>418900</td>\n",
       "      <td>Walking</td>\n",
       "      <td>653</td>\n",
       "      <td>2021-11-03</td>\n",
       "    </tr>\n",
       "  </tbody>\n",
       "</table>\n",
       "</div>"
      ],
      "text/plain": [
       "                   timeBegin  duration category  distance        date\n",
       "1   2021-11-02T13:51:23.625Z   1011562  Walking       907  2021-11-02\n",
       "3   2021-11-03T09:40:00.926Z    364320  Walking       668  2021-11-03\n",
       "5   2021-11-03T09:57:00.849Z    385324  Walking       669  2021-11-03\n",
       "10  2021-11-03T11:45:49.095Z    398238  Walking      1941  2021-11-03\n",
       "12  2021-11-03T14:12:16.057Z    418900  Walking       653  2021-11-03"
      ]
     },
     "execution_count": 3,
     "metadata": {},
     "output_type": "execute_result"
    }
   ],
   "source": [
    "walking = df[df['category'] == 'Walking']\n",
    "walking.head()"
   ]
  }
 ],
 "metadata": {
  "kernelspec": {
   "display_name": "Python 3",
   "language": "python",
   "name": "python3"
  },
  "language_info": {
   "codemirror_mode": {
    "name": "ipython",
    "version": 3
   },
   "file_extension": ".py",
   "mimetype": "text/x-python",
   "name": "python",
   "nbconvert_exporter": "python",
   "pygments_lexer": "ipython3",
   "version": "3.8.10"
  }
 },
 "nbformat": 4,
 "nbformat_minor": 1
}