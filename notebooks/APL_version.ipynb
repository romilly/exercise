{
 "cells": [
  {
   "cell_type": "code",
   "execution_count": 1,
   "id": "268220b5",
   "metadata": {},
   "outputs": [],
   "source": [
    "⎕pw ← 180"
   ]
  },
  {
   "cell_type": "code",
   "execution_count": 2,
   "id": "d2d4dce3",
   "metadata": {},
   "outputs": [
    {
     "data": {
      "text/html": [
       "<span style=\"white-space:pre; font-family: monospace\">┌──────────────────────────┬────────────────────────────────────┬────────────────────────┬────────────────────────┬─────────┬───────────────────┬────────┐\n",
       "│name                      │address                             │timeBegin               │timeEnd                 │duration │category           │distance│\n",
       "├──────────────────────────┼────────────────────────────────────┼────────────────────────┼────────────────────────┼─────────┼───────────────────┼────────┤\n",
       "│Home (626 High Rd)        │626 High Rd, London N12 0NU         │2021-10-31T11:52:52.723Z│2021-11-02T13:51:23.625Z│179910902│                   │0       │\n",
       "├──────────────────────────┼────────────────────────────────────┼────────────────────────┼────────────────────────┼─────────┼───────────────────┼────────┤\n",
       "│Walking                   │                                    │2021-11-02T13:51:23.625Z│2021-11-02T14:08:15.187Z│1011562  │Walking            │907     │\n",
       "├──────────────────────────┼────────────────────────────────────┼────────────────────────┼────────────────────────┼─────────┼───────────────────┼────────┤\n",
       "│Home (626 High Rd)        │626 High Rd, London N12 0NU         │2021-11-02T14:08:15.187Z│2021-11-03T09:40:00.926Z│70305739 │                   │0       │\n",
       "├──────────────────────────┼────────────────────────────────────┼────────────────────────┼────────────────────────┼─────────┼───────────────────┼────────┤\n",
       "│Walking                   │                                    │2021-11-03T09:40:00.926Z│2021-11-03T09:46:05.246Z│364320   │Walking            │668     │\n",
       "├──────────────────────────┼────────────────────────────────────┼────────────────────────┼────────────────────────┼─────────┼───────────────────┼────────┤\n",
       "│North Finchley Post Office│831 High Rd, London N12 8PR         │2021-11-03T09:46:05.246Z│2021-11-03T09:57:00.849Z│655603   │Post Office        │0       │\n",
       "├──────────────────────────┼────────────────────────────────────┼────────────────────────┼────────────────────────┼─────────┼───────────────────┼────────┤\n",
       "│Walking                   │                                    │2021-11-03T09:57:00.849Z│2021-11-03T10:03:26.173Z│385324   │Walking            │669     │\n",
       "├──────────────────────────┼────────────────────────────────────┼────────────────────────┼────────────────────────┼─────────┼───────────────────┼────────┤\n",
       "│Home (626 High Rd)        │626 High Rd, London N12 0NU         │2021-11-03T10:03:26.173Z│2021-11-03T11:01:20.920Z│3474747  │                   │0       │\n",
       "├──────────────────────────┼────────────────────────────────────┼────────────────────────┼────────────────────────┼─────────┼───────────────────┼────────┤\n",
       "│On a bus                  │                                    │2021-11-03T11:01:20.920Z│2021-11-03T11:29:48.214Z│1707294  │On a bus           │6196    │\n",
       "├──────────────────────────┼────────────────────────────────────┼────────────────────────┼────────────────────────┼─────────┼───────────────────┼────────┤\n",
       "│Archway                   │Junction Rd, Archway, London N19 5RQ│2021-11-03T11:29:48.214Z│2021-11-03T11:35:59.116Z│370902   │Underground Station│0       │\n",
       "└──────────────────────────┴────────────────────────────────────┴────────────────────────┴────────────────────────┴─────────┴───────────────────┴────────┘\n",
       "</span>"
      ]
     },
     "execution_count": 2,
     "metadata": {},
     "output_type": "execute_result"
    }
   ],
   "source": [
    "10↑locs ← ⎕csv '../data/location-data/2021-29-11_2021-28-11.csv'"
   ]
  },
  {
   "cell_type": "code",
   "execution_count": 3,
   "id": "64d3cf67",
   "metadata": {},
   "outputs": [],
   "source": [
    "sc ← {1=≡cols←⍺: cols←⊂⍺ ⋄ ⍵/⍨cols ∊⍨,1↑⍵ } ⍝ select column or columns in ⍺ from ⍵"
   ]
  },
  {
   "cell_type": "code",
   "execution_count": 4,
   "id": "579d0dbd",
   "metadata": {},
   "outputs": [
    {
     "data": {
      "text/html": [
       "<span style=\"white-space:pre; font-family: monospace\">┌────────────────────────┬─────────┬────────┬────────┐\n",
       "│timeBegin               │duration │category│distance│\n",
       "├────────────────────────┼─────────┼────────┼────────┤\n",
       "│2021-10-31T11:52:52.723Z│179910902│        │0       │\n",
       "├────────────────────────┼─────────┼────────┼────────┤\n",
       "│2021-11-02T13:51:23.625Z│1011562  │Walking │907     │\n",
       "├────────────────────────┼─────────┼────────┼────────┤\n",
       "│2021-11-02T14:08:15.187Z│70305739 │        │0       │\n",
       "├────────────────────────┼─────────┼────────┼────────┤\n",
       "│2021-11-03T09:40:00.926Z│364320   │Walking │668     │\n",
       "└────────────────────────┴─────────┴────────┴────────┘\n",
       "</span>"
      ]
     },
     "execution_count": 4,
     "metadata": {},
     "output_type": "execute_result"
    }
   ],
   "source": [
    "5↑wanted ←'timeBegin' 'duration' 'category' 'distance' sc locs"
   ]
  },
  {
   "cell_type": "code",
   "execution_count": 5,
   "id": "1b1baf3e",
   "metadata": {},
   "outputs": [],
   "source": [
    "ci ← { (,1↑⍵)⍳⍬⍴1↑⍺ } ⍝ colname ci dataframe ⍝ returns column index\n",
    "sr ← {⍵⌿⍨1, 1↓⍵[;⍺ ci ⍵]≡¨⍬⍴1↓⍺} ⍝ colname value sr ⍵ ⍝ select rows from ⍵ where [colname] = value"
   ]
  },
  {
   "cell_type": "code",
   "execution_count": 6,
   "id": "95a24135",
   "metadata": {},
   "outputs": [
    {
     "data": {
      "text/html": [
       "<span style=\"white-space:pre; font-family: monospace\">┌────────────────────────┬────────┬────────┬────────┐\n",
       "│timeBegin               │duration│category│distance│\n",
       "├────────────────────────┼────────┼────────┼────────┤\n",
       "│2021-11-02T13:51:23.625Z│1011562 │Walking │907     │\n",
       "├────────────────────────┼────────┼────────┼────────┤\n",
       "│2021-11-03T09:40:00.926Z│364320  │Walking │668     │\n",
       "├────────────────────────┼────────┼────────┼────────┤\n",
       "│2021-11-03T09:57:00.849Z│385324  │Walking │669     │\n",
       "├────────────────────────┼────────┼────────┼────────┤\n",
       "│2021-11-03T11:45:49.095Z│398238  │Walking │1941    │\n",
       "└────────────────────────┴────────┴────────┴────────┘\n",
       "</span>"
      ]
     },
     "execution_count": 6,
     "metadata": {},
     "output_type": "execute_result"
    }
   ],
   "source": [
    "5↑walks ← 'category' 'Walking' sr wanted"
   ]
  },
  {
   "cell_type": "code",
   "execution_count": 7,
   "id": "122dafc0",
   "metadata": {},
   "outputs": [],
   "source": [
    "hms ← {'ZI2,<:>,ZI2,<:>,ZI2' ⎕fmt ↑{⊂,⍵}¨24 60 60⊤⍵÷1000} ⍝ convert duration in ms to hh:mm:ss"
   ]
  },
  {
   "cell_type": "code",
   "execution_count": 8,
   "id": "98ba1bcf",
   "metadata": {},
   "outputs": [
    {
     "data": {
      "text/html": [
       "<span style=\"white-space:pre; font-family: monospace\">00:16:52\n",
       "</span>"
      ]
     },
     "execution_count": 8,
     "metadata": {},
     "output_type": "execute_result"
    }
   ],
   "source": [
    "hms 1011562"
   ]
  },
  {
   "cell_type": "code",
   "execution_count": 9,
   "id": "8c4c7b6e",
   "metadata": {
    "pycharm": {
     "name": "#%%\n"
    }
   },
   "outputs": [],
   "source": [
    "eis ← { 0=≡⍵: ⊂,⍵ ⋄ 1=≡⍵: ⊂⍵ ⋄ ⍵ }\n",
    "⍝ <colname> <newcolname> foo apply ⍵ ⍝ apply foo to column in ⍵, putting result in newcolname\n",
    "apply ← { cn ← 2⍴eis ⍺ ⋄ cols ← ,1↑⍵ ⋄ vals ← 1↓⍵ ⋄ vals[;⍵ ci⍨ 1↓cn ]  ← ⍺⍺ ¨ vals[;cn ci ⍵] ⋄ cols⍪vals}"
   ]
  },
  {
   "cell_type": "code",
   "execution_count": 10,
   "id": "d3cc904a",
   "metadata": {},
   "outputs": [
    {
     "data": {
      "text/html": [
       "<span style=\"white-space:pre; font-family: monospace\">┌────────────────────────┬────────┬────────┬────────┐\n",
       "│timeBegin               │duration│category│distance│\n",
       "├────────────────────────┼────────┼────────┼────────┤\n",
       "│2021-11-02T13:51:23.625Z│1011562 │Walking │907     │\n",
       "├────────────────────────┼────────┼────────┼────────┤\n",
       "│2021-11-03T09:40:00.926Z│364320  │Walking │668     │\n",
       "├────────────────────────┼────────┼────────┼────────┤\n",
       "│2021-11-03T09:57:00.849Z│385324  │Walking │669     │\n",
       "├────────────────────────┼────────┼────────┼────────┤\n",
       "│2021-11-03T11:45:49.095Z│398238  │Walking │1941    │\n",
       "└────────────────────────┴────────┴────────┴────────┘\n",
       "</span>"
      ]
     },
     "execution_count": 10,
     "metadata": {},
     "output_type": "execute_result"
    }
   ],
   "source": [
    "5↑w2 ← 'duration' {⍎⍵} apply walks"
   ]
  },
  {
   "cell_type": "code",
   "execution_count": 11,
   "id": "0ca82d51",
   "metadata": {
    "pycharm": {
     "name": "#%%\n"
    }
   },
   "outputs": [],
   "source": [
    "⍝ add cols\n",
    "ac ← { cols ← ,1↑⍵ ⋄ cols ← cols, new ← eis ⍺ ⋄ vals ← 1↓⍵ ⋄ vals ← vals,((1↑⍴vals),⍴new)⍴⊂'' ⋄ cols⍪vals }"
   ]
  },
  {
   "cell_type": "code",
   "execution_count": 12,
   "id": "5275e739",
   "metadata": {
    "pycharm": {
     "name": "#%%\n"
    }
   },
   "outputs": [],
   "source": [
    "w2 ← 5↑'foo'  ac w2"
   ]
  },
  {
   "cell_type": "code",
   "execution_count": 13,
   "id": "70a23c38",
   "metadata": {
    "pycharm": {
     "name": "#%%\n"
    }
   },
   "outputs": [
    {
     "data": {
      "text/html": [
       "<span style=\"white-space:pre; font-family: monospace\">┌────────────────────────┬────────┬────────┬────────┬────────┐\n",
       "│timeBegin               │duration│category│distance│foo     │\n",
       "├────────────────────────┼────────┼────────┼────────┼────────┤\n",
       "│2021-11-02T13:51:23.625Z│1011562 │Walking │907     │00:16:52│\n",
       "├────────────────────────┼────────┼────────┼────────┼────────┤\n",
       "│2021-11-03T09:40:00.926Z│364320  │Walking │668     │00:06:04│\n",
       "├────────────────────────┼────────┼────────┼────────┼────────┤\n",
       "│2021-11-03T09:57:00.849Z│385324  │Walking │669     │00:06:25│\n",
       "├────────────────────────┼────────┼────────┼────────┼────────┤\n",
       "│2021-11-03T11:45:49.095Z│398238  │Walking │1941    │00:06:38│\n",
       "└────────────────────────┴────────┴────────┴────────┴────────┘\n",
       "</span>"
      ]
     },
     "execution_count": 13,
     "metadata": {},
     "output_type": "execute_result"
    }
   ],
   "source": [
    "'duration' 'foo' hms apply w2"
   ]
  },
  {
   "cell_type": "code",
   "execution_count": 14,
   "id": "15a09db3",
   "metadata": {},
   "outputs": [],
   "source": [
    "rdxc ← { df ← ⍵/⍨⍵[;⎕io]∊cns ← eis ⍺ ⋄ df ← df\\cns} ⍝ cols drxc dataframe ⍝ delete, reorder and extend cols"
   ]
  },
  {
   "cell_type": "code",
   "execution_count": 21,
   "id": "a8c5c648",
   "metadata": {},
   "outputs": [],
   "source": [
    "k ← { ⍵/⍨⍵[⎕io;]∊eis ⍺ } ⍝ cols_to_keep k df ⍝ keep only wanted cols"
   ]
  },
  {
   "cell_type": "code",
   "execution_count": 25,
   "id": "5b7b32ec",
   "metadata": {
    "pycharm": {
     "name": "#%%\n"
    }
   },
   "outputs": [
    {
     "data": {
      "text/html": [
       "<span style=\"white-space:pre; font-family: monospace\">┌────────┬────────┐\n",
       "│category│distance│\n",
       "├────────┼────────┤\n",
       "│Walking │907     │\n",
       "├────────┼────────┤\n",
       "│Walking │668     │\n",
       "├────────┼────────┤\n",
       "│Walking │669     │\n",
       "├────────┼────────┤\n",
       "│Walking │1941    │\n",
       "└────────┴────────┘\n",
       "</span>"
      ]
     },
     "execution_count": 25,
     "metadata": {},
     "output_type": "execute_result"
    }
   ],
   "source": [
    "⊢s2 ← 'category' 'distance' k w2"
   ]
  },
  {
   "cell_type": "code",
   "execution_count": 26,
   "id": "228cbdff",
   "metadata": {
    "pycharm": {
     "name": "#%%\n"
    }
   },
   "outputs": [],
   "source": [
    "r ← { ⍵[;⍵[⎕io;]⍳eis ⍺] } ⍝  colnames r df ⍝ reorder cols"
   ]
  },
  {
   "cell_type": "code",
   "execution_count": 28,
   "id": "6e0f732f",
   "metadata": {},
   "outputs": [
    {
     "data": {
      "text/html": [
       "<span style=\"white-space:pre; font-family: monospace\">┌────────┬────────┐\n",
       "│distance│category│\n",
       "├────────┼────────┤\n",
       "│907     │Walking │\n",
       "├────────┼────────┤\n",
       "│668     │Walking │\n",
       "├────────┼────────┤\n",
       "│669     │Walking │\n",
       "├────────┼────────┤\n",
       "│1941    │Walking │\n",
       "└────────┴────────┘\n",
       "</span>"
      ]
     },
     "execution_count": 28,
     "metadata": {},
     "output_type": "execute_result"
    }
   ],
   "source": [
    "'distance' 'category' r w2"
   ]
  },
  {
   "cell_type": "code",
   "execution_count": 38,
   "id": "68991eae",
   "metadata": {},
   "outputs": [],
   "source": [
    "x ← { df ← ⍵\\⍨⍵[⎕io;]∊⍨c ← eis ⍺ ⋄ df[⎕io;] ← c ⋄ df } ⍝ cols x df ⋄ expand to match required cols\n",
    "⍝ NB existing cols must be in the correct order!"
   ]
  },
  {
   "cell_type": "code",
   "execution_count": 39,
   "id": "cefa8f3d",
   "metadata": {},
   "outputs": [
    {
     "data": {
      "text/html": [
       "<span style=\"white-space:pre; font-family: monospace\">┌────────┬────────┬────────┐\n",
       "│distance│dmiles  │category│\n",
       "├────────┼────────┼────────┤\n",
       "│Walking │        │907     │\n",
       "├────────┼────────┼────────┤\n",
       "│Walking │        │668     │\n",
       "├────────┼────────┼────────┤\n",
       "│Walking │        │669     │\n",
       "├────────┼────────┼────────┤\n",
       "│Walking │        │1941    │\n",
       "└────────┴────────┴────────┘\n",
       "</span>"
      ]
     },
     "execution_count": 39,
     "metadata": {},
     "output_type": "execute_result"
    }
   ],
   "source": [
    "'distance' 'dmiles' 'category' x s2"
   ]
  },
  {
   "cell_type": "code",
   "execution_count": null,
   "id": "cfad45b9",
   "metadata": {},
   "outputs": [],
   "source": []
  }
 ],
 "metadata": {
  "kernelspec": {
   "display_name": "Dyalog APL",
   "language": "apl",
   "name": "dyalog-kernel"
  },
  "language_info": {
   "file_extension": ".apl",
   "mimetype": "text/apl",
   "name": "APL"
  }
 },
 "nbformat": 4,
 "nbformat_minor": 5
}