{
 "cells": [
  {
   "cell_type": "code",
   "execution_count": 1,
   "id": "268220b5",
   "metadata": {},
   "outputs": [],
   "source": [
    "⎕pw ← 180"
   ]
  },
  {
   "cell_type": "code",
   "execution_count": 2,
   "id": "d2d4dce3",
   "metadata": {},
   "outputs": [
    {
     "data": {
      "text/html": [
       "<span style=\"white-space:pre; font-family: monospace\">┌──────────────────────────┬────────────────────────────────────┬────────────────────────┬────────────────────────┬─────────┬───────────────────┬────────┐\n",
       "│name                      │address                             │timeBegin               │timeEnd                 │duration │category           │distance│\n",
       "├──────────────────────────┼────────────────────────────────────┼────────────────────────┼────────────────────────┼─────────┼───────────────────┼────────┤\n",
       "│Home (626 High Rd)        │626 High Rd, London N12 0NU         │2021-10-31T11:52:52.723Z│2021-11-02T13:51:23.625Z│179910902│                   │0       │\n",
       "├──────────────────────────┼────────────────────────────────────┼────────────────────────┼────────────────────────┼─────────┼───────────────────┼────────┤\n",
       "│Walking                   │                                    │2021-11-02T13:51:23.625Z│2021-11-02T14:08:15.187Z│1011562  │Walking            │907     │\n",
       "├──────────────────────────┼────────────────────────────────────┼────────────────────────┼────────────────────────┼─────────┼───────────────────┼────────┤\n",
       "│Home (626 High Rd)        │626 High Rd, London N12 0NU         │2021-11-02T14:08:15.187Z│2021-11-03T09:40:00.926Z│70305739 │                   │0       │\n",
       "├──────────────────────────┼────────────────────────────────────┼────────────────────────┼────────────────────────┼─────────┼───────────────────┼────────┤\n",
       "│Walking                   │                                    │2021-11-03T09:40:00.926Z│2021-11-03T09:46:05.246Z│364320   │Walking            │668     │\n",
       "├──────────────────────────┼────────────────────────────────────┼────────────────────────┼────────────────────────┼─────────┼───────────────────┼────────┤\n",
       "│North Finchley Post Office│831 High Rd, London N12 8PR         │2021-11-03T09:46:05.246Z│2021-11-03T09:57:00.849Z│655603   │Post Office        │0       │\n",
       "├──────────────────────────┼────────────────────────────────────┼────────────────────────┼────────────────────────┼─────────┼───────────────────┼────────┤\n",
       "│Walking                   │                                    │2021-11-03T09:57:00.849Z│2021-11-03T10:03:26.173Z│385324   │Walking            │669     │\n",
       "├──────────────────────────┼────────────────────────────────────┼────────────────────────┼────────────────────────┼─────────┼───────────────────┼────────┤\n",
       "│Home (626 High Rd)        │626 High Rd, London N12 0NU         │2021-11-03T10:03:26.173Z│2021-11-03T11:01:20.920Z│3474747  │                   │0       │\n",
       "├──────────────────────────┼────────────────────────────────────┼────────────────────────┼────────────────────────┼─────────┼───────────────────┼────────┤\n",
       "│On a bus                  │                                    │2021-11-03T11:01:20.920Z│2021-11-03T11:29:48.214Z│1707294  │On a bus           │6196    │\n",
       "├──────────────────────────┼────────────────────────────────────┼────────────────────────┼────────────────────────┼─────────┼───────────────────┼────────┤\n",
       "│Archway                   │Junction Rd, Archway, London N19 5RQ│2021-11-03T11:29:48.214Z│2021-11-03T11:35:59.116Z│370902   │Underground Station│0       │\n",
       "└──────────────────────────┴────────────────────────────────────┴────────────────────────┴────────────────────────┴─────────┴───────────────────┴────────┘\n",
       "</span>"
      ]
     },
     "execution_count": 2,
     "metadata": {},
     "output_type": "execute_result"
    }
   ],
   "source": [
    "10↑locs ← ⎕csv '../data/location-data/2021-29-11_2021-28-11.csv'"
   ]
  },
  {
   "cell_type": "code",
   "execution_count": 2,
   "outputs": [
    {
     "data": {
      "text/html": "<span style=\"white-space:pre; font-family: monospace\">4\n</span>"
     },
     "execution_count": 2,
     "metadata": {},
     "output_type": "execute_result"
    }
   ],
   "source": [
    "2+2"
   ],
   "metadata": {
    "collapsed": false,
    "pycharm": {
     "name": "#%%\n"
    }
   }
  },
  {
   "cell_type": "code",
   "execution_count": null,
   "outputs": [],
   "source": [
    "sc ← { ⍵/⍨⍺ ∊⍨,1↑⍵ } ⍝ select columns in ⍺ from ⍵"
   ],
   "metadata": {
    "collapsed": false,
    "pycharm": {
     "name": "#%%\n"
    }
   }
  },
  {
   "cell_type": "code",
   "execution_count": 4,
   "id": "64d3cf67",
   "metadata": {},
   "outputs": [],
   "source": [
    "sc ← { ⍵/⍨⍺ ∊⍨,1↑⍵ } ⍝ select columns in ⍺ from ⍵"
   ]
  },
  {
   "cell_type": "code",
   "execution_count": 5,
   "id": "579d0dbd",
   "metadata": {},
   "outputs": [
    {
     "data": {
      "text/html": [
       "<span style=\"white-space:pre; font-family: monospace\">┌────────────────────────┬─────────┬────────┬────────┐\n",
       "│timeBegin               │duration │category│distance│\n",
       "├────────────────────────┼─────────┼────────┼────────┤\n",
       "│2021-10-31T11:52:52.723Z│179910902│        │0       │\n",
       "├────────────────────────┼─────────┼────────┼────────┤\n",
       "│2021-11-02T13:51:23.625Z│1011562  │Walking │907     │\n",
       "├────────────────────────┼─────────┼────────┼────────┤\n",
       "│2021-11-02T14:08:15.187Z│70305739 │        │0       │\n",
       "├────────────────────────┼─────────┼────────┼────────┤\n",
       "│2021-11-03T09:40:00.926Z│364320   │Walking │668     │\n",
       "└────────────────────────┴─────────┴────────┴────────┘\n",
       "</span>"
      ]
     },
     "execution_count": 5,
     "metadata": {},
     "output_type": "execute_result"
    }
   ],
   "source": [
    "5↑wanted ←'timeBegin' 'duration' 'category' 'distance' sc locs"
   ]
  },
  {
   "cell_type": "code",
   "execution_count": 63,
   "id": "1b1baf3e",
   "metadata": {},
   "outputs": [],
   "source": [
    "sr ← {⍵⌿⍨1, 1↓⍵[;(,1↑⍵)⍳⍬⍴1↑⍺]≡¨⍬⍴1↓⍺} ⍝ colname value sr ⍵ ⍝ select rows from ⍵ where [colname] = value"
   ]
  },
  {
   "cell_type": "code",
   "execution_count": 64,
   "id": "95a24135",
   "metadata": {},
   "outputs": [
    {
     "data": {
      "text/html": [
       "<span style=\"white-space:pre; font-family: monospace\">┌────────────────────────┬────────┬────────┬────────┐\n",
       "│timeBegin               │duration│category│distance│\n",
       "├────────────────────────┼────────┼────────┼────────┤\n",
       "│2021-11-02T13:51:23.625Z│1011562 │Walking │907     │\n",
       "├────────────────────────┼────────┼────────┼────────┤\n",
       "│2021-11-03T09:40:00.926Z│364320  │Walking │668     │\n",
       "├────────────────────────┼────────┼────────┼────────┤\n",
       "│2021-11-03T09:57:00.849Z│385324  │Walking │669     │\n",
       "├────────────────────────┼────────┼────────┼────────┤\n",
       "│2021-11-03T11:45:49.095Z│398238  │Walking │1941    │\n",
       "└────────────────────────┴────────┴────────┴────────┘\n",
       "</span>"
      ]
     },
     "execution_count": 64,
     "metadata": {},
     "output_type": "execute_result"
    }
   ],
   "source": [
    "5↑walks ← 'category' 'Walking' sr wanted"
   ]
  },
  {
   "cell_type": "code",
   "execution_count": 84,
   "id": "122dafc0",
   "metadata": {},
   "outputs": [],
   "source": [
    "hms ← {'I2,<:>,I2,<:>,I2' ⎕fmt ↑{⊂,⍵}¨24 60 60⊤⍵÷1000} ⍝ convert duration in ms to hh:mm:ss"
   ]
  },
  {
   "cell_type": "code",
   "execution_count": 85,
   "id": "98ba1bcf",
   "metadata": {},
   "outputs": [
    {
     "data": {
      "text/html": [
       "<span style=\"white-space:pre; font-family: monospace\"> 0:16:52\n",
       "</span>"
      ]
     },
     "execution_count": 85,
     "metadata": {},
     "output_type": "execute_result"
    }
   ],
   "source": [
    "hms 1011562"
   ]
  },
  {
   "cell_type": "code",
   "execution_count": null,
   "id": "d3cc904a",
   "metadata": {},
   "outputs": [],
   "source": []
  }
 ],
 "metadata": {
  "kernelspec": {
   "display_name": "Dyalog APL",
   "language": "apl",
   "name": "dyalog-kernel"
  },
  "language_info": {
   "file_extension": ".apl",
   "mimetype": "text/apl",
   "name": "APL"
  }
 },
 "nbformat": 4,
 "nbformat_minor": 5
}